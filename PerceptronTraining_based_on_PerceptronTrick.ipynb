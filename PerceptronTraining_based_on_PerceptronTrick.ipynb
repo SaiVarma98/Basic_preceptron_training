{
  "nbformat": 4,
  "nbformat_minor": 0,
  "metadata": {
    "colab": {
      "name": "Perceptron_trick_example.ipynb",
      "provenance": [],
      "authorship_tag": "ABX9TyM587iYQZTi3PXEnh6DT95e",
      "include_colab_link": true
    },
    "kernelspec": {
      "name": "python3",
      "display_name": "Python 3"
    },
    "language_info": {
      "name": "python"
    }
  },
  "cells": [
    {
      "cell_type": "markdown",
      "metadata": {
        "id": "view-in-github",
        "colab_type": "text"
      },
      "source": [
        "<a href=\"https://colab.research.google.com/github/SaiVarma98/Basic_preceptron_training/blob/main/PerceptronTraining_based_on_PerceptronTrick.ipynb\" target=\"_parent\"><img src=\"https://colab.research.google.com/assets/colab-badge.svg\" alt=\"Open In Colab\"/></a>"
      ]
    },
    {
      "cell_type": "code",
      "execution_count": 1,
      "metadata": {
        "id": "HxTBuscgR3U2"
      },
      "outputs": [],
      "source": [
        "import numpy as np\n",
        "import pandas as pd\n",
        "import matplotlib.pyplot as plt\n",
        "from sklearn.datasets import make_classification\n",
        "x,y=make_classification(n_samples=100,n_features=2,n_informative=1,n_redundant=0,n_classes=2,n_clusters_per_class=1,random_state=41,\n",
        "                       class_sep=10,hypercube=False)\n"
      ]
    },
    {
      "cell_type": "code",
      "source": [
        "print(x.shape)\n",
        "print(y.shape)"
      ],
      "metadata": {
        "colab": {
          "base_uri": "https://localhost:8080/"
        },
        "id": "F1m8v3GOUkTY",
        "outputId": "d2f811bf-ae34-4e23-e5f0-06f544af0aba"
      },
      "execution_count": 3,
      "outputs": [
        {
          "output_type": "stream",
          "name": "stdout",
          "text": [
            "(100, 2)\n",
            "(100,)\n"
          ]
        }
      ]
    },
    {
      "cell_type": "code",
      "source": [
        "plt.scatter(x[:,0],x[:,1],c=y,cmap='winter',s=100)\n",
        "plt.show()"
      ],
      "metadata": {
        "colab": {
          "base_uri": "https://localhost:8080/",
          "height": 265
        },
        "id": "nzvlYWH2Uu2l",
        "outputId": "a02af0b4-9a7c-43e6-e6df-762ae08ecefd"
      },
      "execution_count": 4,
      "outputs": [
        {
          "output_type": "display_data",
          "data": {
            "image/png": "[encoded data removed]",
            "text/plain": [
              "<Figure size 432x288 with 1 Axes>"
            ]
          },
          "metadata": {
            "needs_background": "light"
          }
        }
      ]
    },
    {
      "cell_type": "code",
      "source": [
        "type(x)"
      ],
      "metadata": {
        "colab": {
          "base_uri": "https://localhost:8080/"
        },
        "id": "11AjeHXyUy3H",
        "outputId": "87ce40b4-c059-491e-ad85-28a3695e1d07"
      },
      "execution_count": 5,
      "outputs": [
        {
          "output_type": "execute_result",
          "data": {
            "text/plain": [
              "numpy.ndarray"
            ]
          },
          "metadata": {},
          "execution_count": 5
        }
      ]
    },
    {
      "cell_type": "code",
      "source": [
        "x=np.insert(x,0,1,axis=1)"
      ],
      "metadata": {
        "id": "8fki54cZU21q"
      },
      "execution_count": 6,
      "outputs": []
    },
    {
      "cell_type": "code",
      "source": [
        "x"
      ],
      "metadata": {
        "colab": {
          "base_uri": "https://localhost:8080/"
        },
        "id": "DE_Czj65U6Ko",
        "outputId": "26a3a845-fb72-429e-a62d-896c256b5689"
      },
      "execution_count": 7,
      "outputs": [
        {
          "output_type": "execute_result",
          "data": {
            "text/plain": [
              "array([[ 1.        ,  0.19924745, -0.11697552],\n",
              "       [ 1.        , -0.24882029, -0.73115232],\n",
              "       [ 1.        , -0.3544904 , -0.7081059 ],\n",
              "       [ 1.        , -1.59086506, -2.01199214],\n",
              "       [ 1.        , -0.20083951,  1.63493163],\n",
              "       [ 1.        , -0.83241122,  0.15599044],\n",
              "       [ 1.        , -1.79207014,  1.07782053],\n",
              "       [ 1.        ,  0.0856607 ,  0.80626713],\n",
              "       [ 1.        , -0.55865299,  0.74859527],\n",
              "       [ 1.        , -1.95974262,  0.75152794],\n",
              "       [ 1.        , -1.77828947, -0.90114581],\n",
              "       [ 1.        , -1.77985853, -0.1815243 ],\n",
              "       [ 1.        , -0.02194151, -2.98092432],\n",
              "       [ 1.        ,  0.80563431,  1.20500136],\n",
              "       [ 1.        , -1.82701214,  0.78302407],\n",
              "       [ 1.        ,  0.38730728,  0.42968688],\n",
              "       [ 1.        , -0.14108668, -0.73229726],\n",
              "       [ 1.        , -1.87955941, -0.83930476],\n",
              "       [ 1.        , -0.18232911,  0.83727062],\n",
              "       [ 1.        , -1.77059533, -0.10255323],\n",
              "       [ 1.        , -2.27658028,  0.65867001],\n",
              "       [ 1.        , -2.06519502,  0.92649819],\n",
              "       [ 1.        , -1.31690551,  0.10216193],\n",
              "       [ 1.        ,  1.61043259,  0.46886454],\n",
              "       [ 1.        , -1.21650394,  0.45432938],\n",
              "       [ 1.        ,  0.6139723 ,  1.8613386 ],\n",
              "       [ 1.        , -1.78760957, -0.79255991],\n",
              "       [ 1.        , -1.04149161, -1.0004391 ],\n",
              "       [ 1.        , -2.40067584, -0.53814137],\n",
              "       [ 1.        , -1.80383452,  0.44027716],\n",
              "       [ 1.        , -1.44075613,  0.27047889],\n",
              "       [ 1.        ,  1.34989978, -0.75869267],\n",
              "       [ 1.        ,  0.22520167,  0.6802322 ],\n",
              "       [ 1.        ,  0.53688527,  0.17018845],\n",
              "       [ 1.        ,  0.55483459, -1.01121977],\n",
              "       [ 1.        , -0.32178185, -0.8394709 ],\n",
              "       [ 1.        , -0.98821248,  0.90327412],\n",
              "       [ 1.        ,  0.67394805,  1.16981747],\n",
              "       [ 1.        , -1.60913592,  0.53461406],\n",
              "       [ 1.        ,  0.75727194, -0.22100631],\n",
              "       [ 1.        , -1.32591376, -0.64584571],\n",
              "       [ 1.        , -0.91783293,  0.21243302],\n",
              "       [ 1.        , -1.35578147,  0.98654083],\n",
              "       [ 1.        ,  1.46869659,  0.67382928],\n",
              "       [ 1.        , -0.80540713, -0.11323563],\n",
              "       [ 1.        ,  1.08059816,  0.91694693],\n",
              "       [ 1.        ,  0.14667326,  0.3645213 ],\n",
              "       [ 1.        , -1.37324548, -0.78470874],\n",
              "       [ 1.        , -1.09742089, -1.48004137],\n",
              "       [ 1.        , -0.92017476,  0.72931763],\n",
              "       [ 1.        ,  0.22020513, -0.60000139],\n",
              "       [ 1.        , -0.3515292 ,  0.14720034],\n",
              "       [ 1.        , -1.42135667,  0.35215601],\n",
              "       [ 1.        ,  0.94415309,  0.17388705],\n",
              "       [ 1.        ,  2.14488191, -0.17162755],\n",
              "       [ 1.        , -1.52699536,  0.03763193],\n",
              "       [ 1.        ,  1.0347932 ,  0.48360467],\n",
              "       [ 1.        , -2.05551135, -0.07909256],\n",
              "       [ 1.        , -1.33241395,  0.06158897],\n",
              "       [ 1.        , -0.10615042, -1.20413846],\n",
              "       [ 1.        ,  0.89910594,  0.77324391],\n",
              "       [ 1.        , -1.32152694,  0.7640092 ],\n",
              "       [ 1.        , -1.96489671,  1.57200032],\n",
              "       [ 1.        ,  0.97099786,  0.47296516],\n",
              "       [ 1.        ,  0.0520771 ,  0.0642074 ],\n",
              "       [ 1.        , -0.66393984,  1.52469135],\n",
              "       [ 1.        , -1.8937672 , -2.1450828 ],\n",
              "       [ 1.        ,  0.5941446 , -0.7701428 ],\n",
              "       [ 1.        , -1.55261523,  0.84455766],\n",
              "       [ 1.        , -0.9998803 ,  1.29753064],\n",
              "       [ 1.        , -2.39664251, -0.84276652],\n",
              "       [ 1.        ,  0.27537438,  2.0615874 ],\n",
              "       [ 1.        ,  1.0723376 , -0.3036533 ],\n",
              "       [ 1.        , -1.4577388 , -0.1656085 ],\n",
              "       [ 1.        ,  1.06667457,  1.16969713],\n",
              "       [ 1.        ,  0.67498344, -0.3038555 ],\n",
              "       [ 1.        , -2.18254559, -0.4788978 ],\n",
              "       [ 1.        ,  0.96395115,  0.28128262],\n",
              "       [ 1.        , -1.3155857 ,  0.70412341],\n",
              "       [ 1.        ,  0.7158603 ,  0.3757601 ],\n",
              "       [ 1.        , -0.16186654,  0.97247545],\n",
              "       [ 1.        ,  1.341869  ,  0.56868381],\n",
              "       [ 1.        , -1.46023043, -0.39767934],\n",
              "       [ 1.        ,  1.37645492, -1.08933729],\n",
              "       [ 1.        , -0.35770727, -1.81663939],\n",
              "       [ 1.        , -1.8640534 ,  1.41775924],\n",
              "       [ 1.        , -1.7826468 ,  0.27098296],\n",
              "       [ 1.        , -1.18927817, -0.56186639],\n",
              "       [ 1.        ,  0.26654845,  0.42168159],\n",
              "       [ 1.        , -1.28809059, -2.95373116],\n",
              "       [ 1.        ,  0.75163482,  0.19492133],\n",
              "       [ 1.        ,  1.16254252, -0.04578681],\n",
              "       [ 1.        , -1.15890056, -0.18860967],\n",
              "       [ 1.        , -1.48693688,  0.44635682],\n",
              "       [ 1.        ,  0.75292818, -1.49814775],\n",
              "       [ 1.        , -2.12332717,  0.66198774],\n",
              "       [ 1.        , -1.53599817,  0.07153265],\n",
              "       [ 1.        , -1.46034714,  0.32323638],\n",
              "       [ 1.        ,  0.83626582, -0.34574201],\n",
              "       [ 1.        , -0.26570627,  0.06499922]])"
            ]
          },
          "metadata": {},
          "execution_count": 7
        }
      ]
    },
    {
      "cell_type": "code",
      "source": [
        "y"
      ],
      "metadata": {
        "colab": {
          "base_uri": "https://localhost:8080/"
        },
        "id": "wgSAqWIKU6kx",
        "outputId": "2023bc4c-d1e8-47f1-f432-ecdaffaecdf8"
      },
      "execution_count": 8,
      "outputs": [
        {
          "output_type": "execute_result",
          "data": {
            "text/plain": [
              "array([1, 1, 1, 0, 1, 0, 0, 1, 1, 0, 0, 0, 1, 1, 0, 1, 1, 0, 1, 0, 0, 0,\n",
              "       0, 1, 0, 1, 0, 0, 0, 0, 0, 1, 1, 1, 1, 1, 0, 1, 0, 1, 0, 0, 0, 1,\n",
              "       0, 1, 1, 0, 0, 0, 1, 1, 0, 1, 1, 0, 1, 0, 0, 1, 1, 0, 0, 1, 1, 1,\n",
              "       0, 1, 0, 0, 0, 1, 1, 0, 1, 1, 0, 1, 0, 1, 1, 1, 0, 1, 1, 0, 0, 0,\n",
              "       1, 0, 1, 1, 0, 0, 1, 0, 0, 0, 1, 1])"
            ]
          },
          "metadata": {},
          "execution_count": 8
        }
      ]
    },
    {
      "cell_type": "code",
      "source": [
        "epoch=400"
      ],
      "metadata": {
        "id": "MCN9iGbYU7_G"
      },
      "execution_count": 16,
      "outputs": []
    },
    {
      "cell_type": "code",
      "source": [
        "def Perceptron(x,y):\n",
        "    weights=np.ones(x.shape[1])\n",
        "    leraning_rate=0.1\n",
        "    for i in range(epoch):\n",
        "        j=np.random.randint(0,x.shape[0])\n",
        "        p=np.dot(x[j],weights)\n",
        "        y_pred=1 if p>=0 else 0\n",
        "        weights=weights+((y[j]-y_pred)* leraning_rate*x[j])\n",
        "    return weights[0],weights[1:]"
      ],
      "metadata": {
        "id": "1yHoJB9xU9e0"
      },
      "execution_count": 17,
      "outputs": []
    },
    {
      "cell_type": "code",
      "source": [
        "intercept,coef=Perceptron(x,y)"
      ],
      "metadata": {
        "id": "NXRUTZiyU_Ga"
      },
      "execution_count": 18,
      "outputs": []
    },
    {
      "cell_type": "code",
      "source": [
        "print(intercept)\n",
        "print(coef)"
      ],
      "metadata": {
        "colab": {
          "base_uri": "https://localhost:8080/"
        },
        "id": "dHIEuCQHVC1J",
        "outputId": "4dfcd084-2e05-4b8c-e867-b02ceac48f09"
      },
      "execution_count": 19,
      "outputs": [
        {
          "output_type": "stream",
          "name": "stdout",
          "text": [
            "1.0\n",
            "[1.39723844 0.09138497]\n"
          ]
        }
      ]
    },
    {
      "cell_type": "code",
      "source": [
        "## Converting wox1+w1x1+w2x2=0 into y=mx+c\n",
        "m=-(coef[0]/coef[1])\n",
        "c=-(intercept/coef[1])\n",
        "x_input=np.linspace(-3,3,100)\n",
        "y_input=(m*x_input)+c"
      ],
      "metadata": {
        "id": "r-cSSlENVGbZ"
      },
      "execution_count": 20,
      "outputs": []
    },
    {
      "cell_type": "code",
      "source": [
        "plt.plot (x_input,y_input,color='red',linewidth=3)\n",
        "plt.scatter(x[:,1],x[:,2],c=y,cmap='winter',s=100)\n",
        "plt.ylim(-3,2)\n",
        "plt.show()"
      ],
      "metadata": {
        "colab": {
          "base_uri": "https://localhost:8080/",
          "height": 269
        },
        "id": "LyRXdj9UVIgI",
        "outputId": "cecc3827-ec0f-4a37-ab8e-d465522f036f"
      },
      "execution_count": 21,
      "outputs": [
        {
          "output_type": "display_data",
          "data": {
            "image/png": "[encoded data removed]",
            "text/plain": [
              "<Figure size 432x288 with 1 Axes>"
            ]
          },
          "metadata": {
            "needs_background": "light"
          }
        }
      ]
    },
    {
      "cell_type": "code",
      "source": [
        "#here the above red line is the line seperates both -ve and +ve cases of output. Now the perceptron is trained. whenever we give any output based \n",
        "#which region the input falls(above or below the line), this perceptron predicts the output"
      ],
      "metadata": {
        "id": "f3W6WhveVKIu"
      },
      "execution_count": 22,
      "outputs": []
    }
  ]
}